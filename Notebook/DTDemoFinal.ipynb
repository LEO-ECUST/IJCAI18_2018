{
 "cells": [
  {
   "cell_type": "code",
   "execution_count": 1,
   "metadata": {
    "collapsed": true
   },
   "outputs": [],
   "source": [
    "import pandas as pd\n",
    "from collections import Counter\n",
    "import datetime\n",
    "import numpy as np\n",
    "%matplotlib inline\n",
    "\n",
    "import warnings\n",
    "warnings.filterwarnings(\"ignore\")"
   ]
  },
  {
   "cell_type": "code",
   "execution_count": 2,
   "metadata": {
    "collapsed": true
   },
   "outputs": [],
   "source": [
    "from sklearn import preprocessing\n",
    "from sklearn.metrics import log_loss"
   ]
  },
  {
   "cell_type": "code",
   "execution_count": 3,
   "metadata": {
    "collapsed": true
   },
   "outputs": [],
   "source": [
    "df = pd.read_csv('../Output/a/train_step3_301_final.csv') # 数据加载\n",
    "test_df = pd.read_csv('../Output/a/test_step3_301_final.csv') # A测试集数据"
   ]
  },
  {
   "cell_type": "code",
   "execution_count": 4,
   "metadata": {},
   "outputs": [
    {
     "data": {
      "text/plain": [
       "(477284, 77)"
      ]
     },
     "execution_count": 4,
     "metadata": {},
     "output_type": "execute_result"
    }
   ],
   "source": [
    "df.shape"
   ]
  },
  {
   "cell_type": "markdown",
   "metadata": {},
   "source": [
    "将数据集按照context_timestamp的日期划分成训练集和测试集"
   ]
  },
  {
   "cell_type": "markdown",
   "metadata": {},
   "source": [
    "18-23日的当成训练集，24日的当成测试集"
   ]
  },
  {
   "cell_type": "code",
   "execution_count": 5,
   "metadata": {
    "collapsed": true
   },
   "outputs": [],
   "source": [
    "df1 = df.drop(['context_time_day','context_timestamp','instance_id'], 1)\n",
    "test_data = test_df.drop(['context_time_day','context_timestamp','is_trade'], 1)"
   ]
  },
  {
   "cell_type": "code",
   "execution_count": 6,
   "metadata": {
    "collapsed": true
   },
   "outputs": [],
   "source": [
    "df_label = df1.pop('is_trade')\n",
    "df_data = df1\n",
    "del df1"
   ]
  },
  {
   "cell_type": "code",
   "execution_count": 7,
   "metadata": {
    "collapsed": true
   },
   "outputs": [],
   "source": [
    "instance_df = test_data.pop('instance_id') # pd.series\n",
    "\n",
    "rows = df_data.shape[0]\n",
    "merge_data = df_data.append(test_data)"
   ]
  },
  {
   "cell_type": "code",
   "execution_count": null,
   "metadata": {},
   "outputs": [],
   "source": [
    "merge_data.columns"
   ]
  },
  {
   "cell_type": "code",
   "execution_count": 8,
   "metadata": {},
   "outputs": [],
   "source": [
    "zuhe_col = ['shop_review_star', 'shop_delivery_service', 'item_collected_sales',\n",
    "            'item_collected_pv', 'item_sales_pv', 'user_gender_age', 'user_gender_occ', 'user_gender_star']\n",
    "trade_rate_col = ['item_id_traderate','item_brand_id_traderate',\n",
    "                  'shop_id_traderate', 'user_id_traderate','item_city_id_traderate']\n",
    "cnt_col = ['item_id_cnt1', 'user_id_cnt1', 'shop_id_cnt1',\n",
    "           'item_id_cnt', 'user_id_cnt', 'shop_id_cnt']\n",
    "col_drop =   trade_rate_col\n",
    "\n",
    "col_select = [c for c in merge_data.columns if c not in col_drop]\n",
    "\n",
    "scale_data = preprocessing.scale(merge_data[col_select])\n",
    "data = scale_data[0:rows]  # 训练集数据\n",
    "test_data = scale_data[rows:] # 测试集数据"
   ]
  },
  {
   "cell_type": "code",
   "execution_count": 9,
   "metadata": {
    "collapsed": true
   },
   "outputs": [],
   "source": [
    "train_df = data[df['context_time_day']<=23]\n",
    "test_df = data[df['context_time_day']>23]"
   ]
  },
  {
   "cell_type": "code",
   "execution_count": 10,
   "metadata": {
    "collapsed": true
   },
   "outputs": [],
   "source": [
    "train_df_label = df_label[df['context_time_day']<=23]\n",
    "test_df_label = df_label[df['context_time_day']>23]"
   ]
  },
  {
   "cell_type": "code",
   "execution_count": 11,
   "metadata": {
    "collapsed": true
   },
   "outputs": [],
   "source": [
    "def generateResult(instance_df, test_prelabel, filename='../Output/LRpre_result_0321.txt'):\n",
    "    result = pd.DataFrame({'instance_id':instance_df})\n",
    "    result['predicted_score'] = test_prelabel\n",
    "    result.to_csv(filename, index=False, sep=' ', line_terminator='\\r')"
   ]
  },
  {
   "cell_type": "markdown",
   "metadata": {},
   "source": [
    "# lightGBM"
   ]
  },
  {
   "cell_type": "code",
   "execution_count": 12,
   "metadata": {
    "collapsed": true
   },
   "outputs": [],
   "source": [
    "import lightgbm as lgb"
   ]
  },
  {
   "cell_type": "code",
   "execution_count": null,
   "metadata": {
    "collapsed": true
   },
   "outputs": [],
   "source": [
    "# 特征选择\n",
    "# from sklearn.feature_selection import SelectFromModel\n",
    "# embed_model = SelectFromModel(LGBM, prefit=True)\n",
    "# train_df = embed_model.transform(train_df)\n",
    "# test_df = embed_model.transform(test_df)"
   ]
  },
  {
   "cell_type": "code",
   "execution_count": null,
   "metadata": {
    "collapsed": true
   },
   "outputs": [],
   "source": [
    "from sklearn.grid_search import GridSearchCV\n",
    "\n",
    "param_val1 = {'n_estimators': list(range(20,201,10))}\n",
    "param_val2 = {'max_depth':list(range(2,15,1))}\n",
    "param_val3 = { 'colsample_bytree':[0.7,0.72,0.74,0.76,0.78,0.8,0.82,0.84,0.86,0.88,0.90]}\n",
    "param_val4 = {'subsample':[0.5,0.6,0.7,0.8,0.9,1]}\n",
    "param_val = {'learning_rate':[0.005,0.01,0.02,0.05,0.1,0.2,0.5]}"
   ]
  },
  {
   "cell_type": "code",
   "execution_count": 13,
   "metadata": {
    "collapsed": true
   },
   "outputs": [],
   "source": [
    "LGBM = lgb.LGBMRegressor(max_depth=7, n_estimators=60, learning_rate=0.1, num_leaves=63)\n",
    "# LGBM = lgb.LGBMClassifier(  max_depth=3,\n",
    "#                             n_estimators = 120,\n",
    "#                             learning_rate =0.05,     \n",
    "#                             objective = 'binary',\n",
    "#                             subsample=0.7,\n",
    "#                             colsample_bytree=0.74,\n",
    "#                             num_leaves=8\n",
    "# )"
   ]
  },
  {
   "cell_type": "code",
   "execution_count": null,
   "metadata": {
    "collapsed": true
   },
   "outputs": [],
   "source": [
    "cv1 = GridSearchCV(estimator = LGBM,\n",
    "                  param_grid = param_val2, scoring='roc_auc', iid=False)\n",
    "cv1.fit(train_df, train_df_label)\n",
    "cv1.grid_scores_, cv1.best_params_, cv1.best_score_"
   ]
  },
  {
   "cell_type": "code",
   "execution_count": 14,
   "metadata": {},
   "outputs": [
    {
     "data": {
      "text/plain": [
       "LGBMRegressor(boosting_type='gbdt', class_weight=None, colsample_bytree=1.0,\n",
       "       learning_rate=0.1, max_depth=7, min_child_samples=20,\n",
       "       min_child_weight=0.001, min_split_gain=0.0, n_estimators=60,\n",
       "       n_jobs=-1, num_leaves=63, objective=None, random_state=None,\n",
       "       reg_alpha=0.0, reg_lambda=0.0, silent=True, subsample=1.0,\n",
       "       subsample_for_bin=200000, subsample_freq=1)"
      ]
     },
     "execution_count": 14,
     "metadata": {},
     "output_type": "execute_result"
    }
   ],
   "source": [
    "LGBM.fit(train_df, train_df_label)"
   ]
  },
  {
   "cell_type": "code",
   "execution_count": 15,
   "metadata": {},
   "outputs": [
    {
     "name": "stdout",
     "output_type": "stream",
     "text": [
      "0.0823693404566\n"
     ]
    }
   ],
   "source": [
    "test_df_preLabel = LGBM.predict(test_df)\n",
    "logLoss = log_loss(test_df_label, test_df_preLabel)\n",
    "print (logLoss)"
   ]
  },
  {
   "cell_type": "code",
   "execution_count": 16,
   "metadata": {
    "collapsed": true
   },
   "outputs": [],
   "source": [
    "test_prelabel = LGBM.predict(test_data)"
   ]
  },
  {
   "cell_type": "code",
   "execution_count": null,
   "metadata": {
    "collapsed": true
   },
   "outputs": [],
   "source": [
    "test_df_preLabel = LGBM.predict_proba(test_df)[:,1]\n",
    "logLoss = log_loss(test_df_label, test_df_preLabel)\n",
    "print (logLoss)\n",
    "# A 线下0.08332 线上0.08337\n",
    "# A 线下0.0822370223983 线上0.08331\n",
    "\n",
    "# B 线下0.0854069321492 线上"
   ]
  },
  {
   "cell_type": "code",
   "execution_count": null,
   "metadata": {
    "collapsed": true
   },
   "outputs": [],
   "source": [
    "test_prelabel = LGBM.predict_proba(test_data)[:,1]"
   ]
  },
  {
   "cell_type": "code",
   "execution_count": 17,
   "metadata": {
    "collapsed": true
   },
   "outputs": [],
   "source": [
    "generateResult(instance_df, test_prelabel, filename='../Output/a/LGBMpre_result.txt')"
   ]
  },
  {
   "cell_type": "markdown",
   "metadata": {
    "collapsed": true
   },
   "source": [
    "# GBDT\n",
    "Gradient Boosting Decision Tree梯度提升决策树"
   ]
  },
  {
   "cell_type": "code",
   "execution_count": null,
   "metadata": {
    "collapsed": true
   },
   "outputs": [],
   "source": [
    "from sklearn import ensemble"
   ]
  },
  {
   "cell_type": "code",
   "execution_count": null,
   "metadata": {
    "collapsed": true
   },
   "outputs": [],
   "source": [
    "# n_estimators树的颗数; learning_rate学习率; max_depth树的深度\n",
    "GBDT = ensemble.GradientBoostingRegressor(n_estimators=30, learning_rate=0.1, max_depth=7)"
   ]
  },
  {
   "cell_type": "code",
   "execution_count": null,
   "metadata": {
    "collapsed": true
   },
   "outputs": [],
   "source": [
    "GBDT.fit(train_df, train_df_label)"
   ]
  },
  {
   "cell_type": "code",
   "execution_count": null,
   "metadata": {
    "collapsed": true
   },
   "outputs": [],
   "source": [
    "test_df_preLabel = GBDT.predict(test_df)\n",
    "logLoss = log_loss(test_df_label, test_df_preLabel)\n",
    "print (logLoss)\n",
    "# 线下0.0823620123728 线上 0.08362"
   ]
  },
  {
   "cell_type": "code",
   "execution_count": null,
   "metadata": {
    "collapsed": true
   },
   "outputs": [],
   "source": [
    "test_prelabel = GBDT.predict(test_data)"
   ]
  },
  {
   "cell_type": "code",
   "execution_count": null,
   "metadata": {
    "collapsed": true
   },
   "outputs": [],
   "source": [
    "generateResult(instance_df, test_prelabel, filename='../Output/GBDTpre_result.txt')"
   ]
  },
  {
   "cell_type": "markdown",
   "metadata": {},
   "source": [
    "# XGBoost"
   ]
  },
  {
   "cell_type": "code",
   "execution_count": null,
   "metadata": {
    "collapsed": true
   },
   "outputs": [],
   "source": [
    "import xgboost as xgb"
   ]
  },
  {
   "cell_type": "code",
   "execution_count": null,
   "metadata": {
    "collapsed": true
   },
   "outputs": [],
   "source": [
    "XGB_model = xgb.XGBRegressor(n_estimators=60, learning_rate=0.1, max_depth=7)"
   ]
  },
  {
   "cell_type": "code",
   "execution_count": null,
   "metadata": {
    "collapsed": true
   },
   "outputs": [],
   "source": [
    "XGB_model.fit(train_df, train_df_label, eval_set=[(test_df, test_df_label)])"
   ]
  },
  {
   "cell_type": "code",
   "execution_count": null,
   "metadata": {
    "collapsed": true
   },
   "outputs": [],
   "source": [
    "test_df_preLabel = XGB_model.predict(test_df)\n",
    "logLoss = log_loss(test_df_label, test_df_preLabel)\n",
    "print (logLoss)\n",
    "# 线下 0.0841361944155  线上 0.0830\n",
    "# 线下 0.0825883856602 线上 0.08324"
   ]
  },
  {
   "cell_type": "code",
   "execution_count": null,
   "metadata": {
    "collapsed": true
   },
   "outputs": [],
   "source": [
    "test_prelabel = XGB_model.predict(test_data)"
   ]
  },
  {
   "cell_type": "code",
   "execution_count": null,
   "metadata": {
    "collapsed": true
   },
   "outputs": [],
   "source": [
    "generateResult(instance_df, test_prelabel, filename='../Output/XGBpre_result_0325.txt')"
   ]
  },
  {
   "cell_type": "markdown",
   "metadata": {},
   "source": [
    "# 随机森林RF\n",
    "\n",
    "Random Forest回归模型\n"
   ]
  },
  {
   "cell_type": "code",
   "execution_count": null,
   "metadata": {
    "collapsed": true
   },
   "outputs": [],
   "source": [
    "from sklearn import ensemble"
   ]
  },
  {
   "cell_type": "code",
   "execution_count": null,
   "metadata": {
    "collapsed": true
   },
   "outputs": [],
   "source": [
    "# n_estimators树的颗数; max_features寻找最佳划分的特征数; max_depth树的深度\n",
    "RF = ensemble.RandomForestRegressor(n_estimators=30, max_features='log2', max_depth=7)"
   ]
  },
  {
   "cell_type": "code",
   "execution_count": null,
   "metadata": {
    "collapsed": true
   },
   "outputs": [],
   "source": [
    "RF.fit(train_df, train_df_label)"
   ]
  },
  {
   "cell_type": "code",
   "execution_count": null,
   "metadata": {
    "collapsed": true
   },
   "outputs": [],
   "source": [
    "test_df_preLabel = RF.predict(test_df)\n",
    "logLoss = log_loss(test_df_label, test_df_preLabel)\n",
    "print (logLoss)\n",
    "# 线下 0.0828739759419 线下 0.08359"
   ]
  },
  {
   "cell_type": "code",
   "execution_count": null,
   "metadata": {
    "collapsed": true
   },
   "outputs": [],
   "source": [
    "test_prelabel = RF.predict(test_data)"
   ]
  },
  {
   "cell_type": "code",
   "execution_count": null,
   "metadata": {
    "collapsed": true
   },
   "outputs": [],
   "source": [
    "generateResult(instance_df, test_prelabel, filename='../Output/RFpre_result_0321.txt')"
   ]
  },
  {
   "cell_type": "code",
   "execution_count": null,
   "metadata": {
    "collapsed": true
   },
   "outputs": [],
   "source": []
  }
 ],
 "metadata": {
  "kernelspec": {
   "display_name": "Python 3",
   "language": "python",
   "name": "python3"
  },
  "language_info": {
   "codemirror_mode": {
    "name": "ipython",
    "version": 3
   },
   "file_extension": ".py",
   "mimetype": "text/x-python",
   "name": "python",
   "nbconvert_exporter": "python",
   "pygments_lexer": "ipython3",
   "version": "3.6.3"
  }
 },
 "nbformat": 4,
 "nbformat_minor": 2
}
