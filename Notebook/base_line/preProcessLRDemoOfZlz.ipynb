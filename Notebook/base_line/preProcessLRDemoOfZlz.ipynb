{
 "cells": [
  {
   "cell_type": "code",
   "execution_count": 1,
   "metadata": {
    "collapsed": true
   },
   "outputs": [],
   "source": [
    "import pandas as pd\n",
    "from collections import Counter\n",
    "import datetime\n",
    "import numpy as np\n",
    "%matplotlib inline"
   ]
  },
  {
   "cell_type": "code",
   "execution_count": 2,
   "metadata": {
    "collapsed": true
   },
   "outputs": [],
   "source": [
    "df = pd.read_csv('../Output/train_step1.csv') # 训练集数据加载"
   ]
  },
  {
   "cell_type": "code",
   "execution_count": 3,
   "metadata": {
    "collapsed": true
   },
   "outputs": [],
   "source": [
    "test_df = pd.read_csv('../Data/round1_ijcai_18_test_a_20180301/round1_ijcai_18_test_a_20180301.txt', sep=' ') # 测试集数据加载"
   ]
  },
  {
   "cell_type": "code",
   "execution_count": 2,
   "metadata": {
    "collapsed": true
   },
   "outputs": [],
   "source": [
    "# 获得每个字段的缺失值样本数 原数据中缺失值为-1\n",
    "def getDetailOfNAN(df):\n",
    "    for col in df.columns:\n",
    "        print (col + ': %d' % df[df[col]==-1].shape[0])\n",
    "        \n",
    "# 不同离散型特征具有不同的取值\n",
    "def numberOfColValues(df):\n",
    "    for col in df.columns:\n",
    "        print (col + ': %d 特异值' % len(set(df[col])))\n",
    "\n",
    "# 获得指定特征字段的详细情况，（特异值分布和样本分布）\n",
    "def getDetailColumns(df):\n",
    "    lens = df.shape[0]\n",
    "    for col in ['item_brand_id', 'item_city_id', 'item_id', 'user_id', 'context_id','shop_id','item_category_0','item_category_1','item_category_2','item_property_0','item_property_1','item_property_2','predict_category_property_0','predict_category_property_1','predict_category_property_2']:\n",
    "        values = len(set(df[col]))\n",
    "        print (col + '   %d   ' % values)\n",
    "        print (\"平均每个特异值有%d个样本数\" % (lens/values))"
   ]
  },
  {
   "cell_type": "markdown",
   "metadata": {},
   "source": [
    "\n",
    "# 数据类型转化： 时间日期列context_timestamp"
   ]
  },
  {
   "cell_type": "code",
   "execution_count": 5,
   "metadata": {},
   "outputs": [
    {
     "name": "stdout",
     "output_type": "stream",
     "text": [
      "2018-09-18 10:09:04\n",
      "['__add__', '__class__', '__delattr__', '__dir__', '__doc__', '__eq__', '__format__', '__ge__', '__getattribute__', '__gt__', '__hash__', '__init__', '__init_subclass__', '__le__', '__lt__', '__ne__', '__new__', '__radd__', '__reduce__', '__reduce_ex__', '__repr__', '__rsub__', '__setattr__', '__sizeof__', '__str__', '__sub__', '__subclasshook__', 'astimezone', 'combine', 'ctime', 'date', 'day', 'dst', 'fold', 'fromordinal', 'fromtimestamp', 'hour', 'isocalendar', 'isoformat', 'isoweekday', 'max', 'microsecond', 'min', 'minute', 'month', 'now', 'replace', 'resolution', 'second', 'strftime', 'strptime', 'time', 'timestamp', 'timetuple', 'timetz', 'today', 'toordinal', 'tzinfo', 'tzname', 'utcfromtimestamp', 'utcnow', 'utcoffset', 'utctimetuple', 'weekday', 'year']\n"
     ]
    }
   ],
   "source": [
    "time_temp = datetime.datetime.fromtimestamp(df['context_timestamp'][0])  # unix时间戳转化成时间\n",
    "print (time_temp)\n",
    "print (dir(time_temp))  # day/minute/month/weeday()/"
   ]
  },
  {
   "cell_type": "markdown",
   "metadata": {},
   "source": [
    "# 对dataframe数据进行统计描述："
   ]
  },
  {
   "cell_type": "code",
   "execution_count": 6,
   "metadata": {
    "scrolled": true
   },
   "outputs": [
    {
     "data": {
      "text/html": [
       "<div>\n",
       "<style>\n",
       "    .dataframe thead tr:only-child th {\n",
       "        text-align: right;\n",
       "    }\n",
       "\n",
       "    .dataframe thead th {\n",
       "        text-align: left;\n",
       "    }\n",
       "\n",
       "    .dataframe tbody tr th {\n",
       "        vertical-align: top;\n",
       "    }\n",
       "</style>\n",
       "<table border=\"1\" class=\"dataframe\">\n",
       "  <thead>\n",
       "    <tr style=\"text-align: right;\">\n",
       "      <th></th>\n",
       "      <th>instance_id</th>\n",
       "      <th>item_id</th>\n",
       "      <th>item_brand_id</th>\n",
       "      <th>item_city_id</th>\n",
       "      <th>item_price_level</th>\n",
       "      <th>item_sales_level</th>\n",
       "      <th>item_collected_level</th>\n",
       "      <th>item_pv_level</th>\n",
       "      <th>user_id</th>\n",
       "      <th>user_gender_id</th>\n",
       "      <th>...</th>\n",
       "      <th>context_timestamp</th>\n",
       "      <th>context_page_id</th>\n",
       "      <th>shop_id</th>\n",
       "      <th>shop_review_num_level</th>\n",
       "      <th>shop_review_positive_rate</th>\n",
       "      <th>shop_star_level</th>\n",
       "      <th>shop_score_service</th>\n",
       "      <th>shop_score_delivery</th>\n",
       "      <th>shop_score_description</th>\n",
       "      <th>is_trade</th>\n",
       "    </tr>\n",
       "  </thead>\n",
       "  <tbody>\n",
       "    <tr>\n",
       "      <th>count</th>\n",
       "      <td>4.781380e+05</td>\n",
       "      <td>4.781380e+05</td>\n",
       "      <td>4.781380e+05</td>\n",
       "      <td>4.781380e+05</td>\n",
       "      <td>478138.000000</td>\n",
       "      <td>478138.00000</td>\n",
       "      <td>478138.000000</td>\n",
       "      <td>478138.000000</td>\n",
       "      <td>4.781380e+05</td>\n",
       "      <td>478138.000000</td>\n",
       "      <td>...</td>\n",
       "      <td>4.781380e+05</td>\n",
       "      <td>478138.000000</td>\n",
       "      <td>4.781380e+05</td>\n",
       "      <td>478138.000000</td>\n",
       "      <td>478138.000000</td>\n",
       "      <td>478138.000000</td>\n",
       "      <td>478138.000000</td>\n",
       "      <td>478138.000000</td>\n",
       "      <td>478138.000000</td>\n",
       "      <td>478138.000000</td>\n",
       "    </tr>\n",
       "    <tr>\n",
       "      <th>mean</th>\n",
       "      <td>4.613082e+18</td>\n",
       "      <td>4.594622e+18</td>\n",
       "      <td>4.838444e+18</td>\n",
       "      <td>5.500420e+18</td>\n",
       "      <td>6.777175</td>\n",
       "      <td>11.13384</td>\n",
       "      <td>12.199336</td>\n",
       "      <td>17.128676</td>\n",
       "      <td>4.609864e+18</td>\n",
       "      <td>0.213047</td>\n",
       "      <td>...</td>\n",
       "      <td>1.537502e+09</td>\n",
       "      <td>4003.362366</td>\n",
       "      <td>4.733842e+18</td>\n",
       "      <td>15.768353</td>\n",
       "      <td>0.994830</td>\n",
       "      <td>5013.175240</td>\n",
       "      <td>0.971124</td>\n",
       "      <td>0.970497</td>\n",
       "      <td>0.974863</td>\n",
       "      <td>0.018867</td>\n",
       "    </tr>\n",
       "    <tr>\n",
       "      <th>std</th>\n",
       "      <td>2.663448e+18</td>\n",
       "      <td>2.710140e+18</td>\n",
       "      <td>2.694756e+18</td>\n",
       "      <td>2.464881e+18</td>\n",
       "      <td>1.089037</td>\n",
       "      <td>2.58886</td>\n",
       "      <td>2.497312</td>\n",
       "      <td>2.160745</td>\n",
       "      <td>2.663355e+18</td>\n",
       "      <td>0.514699</td>\n",
       "      <td>...</td>\n",
       "      <td>1.726222e+05</td>\n",
       "      <td>4.019709</td>\n",
       "      <td>2.596118e+18</td>\n",
       "      <td>2.825294</td>\n",
       "      <td>0.011972</td>\n",
       "      <td>2.590989</td>\n",
       "      <td>0.023817</td>\n",
       "      <td>0.023776</td>\n",
       "      <td>0.025024</td>\n",
       "      <td>0.136055</td>\n",
       "    </tr>\n",
       "    <tr>\n",
       "      <th>min</th>\n",
       "      <td>3.823219e+12</td>\n",
       "      <td>6.964907e+14</td>\n",
       "      <td>-1.000000e+00</td>\n",
       "      <td>-1.000000e+00</td>\n",
       "      <td>0.000000</td>\n",
       "      <td>-1.00000</td>\n",
       "      <td>0.000000</td>\n",
       "      <td>0.000000</td>\n",
       "      <td>2.477979e+13</td>\n",
       "      <td>-1.000000</td>\n",
       "      <td>...</td>\n",
       "      <td>1.537200e+09</td>\n",
       "      <td>4001.000000</td>\n",
       "      <td>1.543560e+15</td>\n",
       "      <td>0.000000</td>\n",
       "      <td>-1.000000</td>\n",
       "      <td>4999.000000</td>\n",
       "      <td>-1.000000</td>\n",
       "      <td>-1.000000</td>\n",
       "      <td>-1.000000</td>\n",
       "      <td>0.000000</td>\n",
       "    </tr>\n",
       "    <tr>\n",
       "      <th>25%</th>\n",
       "      <td>2.308543e+18</td>\n",
       "      <td>2.251088e+18</td>\n",
       "      <td>2.357806e+18</td>\n",
       "      <td>3.948283e+18</td>\n",
       "      <td>6.000000</td>\n",
       "      <td>10.00000</td>\n",
       "      <td>11.000000</td>\n",
       "      <td>16.000000</td>\n",
       "      <td>2.302761e+18</td>\n",
       "      <td>0.000000</td>\n",
       "      <td>...</td>\n",
       "      <td>1.537351e+09</td>\n",
       "      <td>4001.000000</td>\n",
       "      <td>2.498543e+18</td>\n",
       "      <td>14.000000</td>\n",
       "      <td>0.992779</td>\n",
       "      <td>5012.000000</td>\n",
       "      <td>0.966360</td>\n",
       "      <td>0.965684</td>\n",
       "      <td>0.969268</td>\n",
       "      <td>0.000000</td>\n",
       "    </tr>\n",
       "    <tr>\n",
       "      <th>50%</th>\n",
       "      <td>4.613478e+18</td>\n",
       "      <td>4.636270e+18</td>\n",
       "      <td>5.051040e+18</td>\n",
       "      <td>6.738284e+18</td>\n",
       "      <td>7.000000</td>\n",
       "      <td>11.00000</td>\n",
       "      <td>12.000000</td>\n",
       "      <td>17.000000</td>\n",
       "      <td>4.608490e+18</td>\n",
       "      <td>0.000000</td>\n",
       "      <td>...</td>\n",
       "      <td>1.537506e+09</td>\n",
       "      <td>4001.000000</td>\n",
       "      <td>4.629590e+18</td>\n",
       "      <td>16.000000</td>\n",
       "      <td>1.000000</td>\n",
       "      <td>5013.000000</td>\n",
       "      <td>0.972347</td>\n",
       "      <td>0.971590</td>\n",
       "      <td>0.978493</td>\n",
       "      <td>0.000000</td>\n",
       "    </tr>\n",
       "    <tr>\n",
       "      <th>75%</th>\n",
       "      <td>6.920994e+18</td>\n",
       "      <td>7.007158e+18</td>\n",
       "      <td>7.565625e+18</td>\n",
       "      <td>7.534239e+18</td>\n",
       "      <td>8.000000</td>\n",
       "      <td>13.00000</td>\n",
       "      <td>14.000000</td>\n",
       "      <td>19.000000</td>\n",
       "      <td>6.914375e+18</td>\n",
       "      <td>0.000000</td>\n",
       "      <td>...</td>\n",
       "      <td>1.537635e+09</td>\n",
       "      <td>4004.000000</td>\n",
       "      <td>6.740687e+18</td>\n",
       "      <td>17.000000</td>\n",
       "      <td>1.000000</td>\n",
       "      <td>5015.000000</td>\n",
       "      <td>0.977822</td>\n",
       "      <td>0.976978</td>\n",
       "      <td>0.983640</td>\n",
       "      <td>0.000000</td>\n",
       "    </tr>\n",
       "    <tr>\n",
       "      <th>max</th>\n",
       "      <td>9.223362e+18</td>\n",
       "      <td>9.221980e+18</td>\n",
       "      <td>9.222396e+18</td>\n",
       "      <td>9.151271e+18</td>\n",
       "      <td>17.000000</td>\n",
       "      <td>17.00000</td>\n",
       "      <td>17.000000</td>\n",
       "      <td>21.000000</td>\n",
       "      <td>9.223345e+18</td>\n",
       "      <td>2.000000</td>\n",
       "      <td>...</td>\n",
       "      <td>1.537805e+09</td>\n",
       "      <td>4020.000000</td>\n",
       "      <td>9.220773e+18</td>\n",
       "      <td>25.000000</td>\n",
       "      <td>1.000000</td>\n",
       "      <td>5020.000000</td>\n",
       "      <td>1.000000</td>\n",
       "      <td>1.000000</td>\n",
       "      <td>1.000000</td>\n",
       "      <td>1.000000</td>\n",
       "    </tr>\n",
       "  </tbody>\n",
       "</table>\n",
       "<p>8 rows × 24 columns</p>\n",
       "</div>"
      ],
      "text/plain": [
       "        instance_id       item_id  item_brand_id  item_city_id  \\\n",
       "count  4.781380e+05  4.781380e+05   4.781380e+05  4.781380e+05   \n",
       "mean   4.613082e+18  4.594622e+18   4.838444e+18  5.500420e+18   \n",
       "std    2.663448e+18  2.710140e+18   2.694756e+18  2.464881e+18   \n",
       "min    3.823219e+12  6.964907e+14  -1.000000e+00 -1.000000e+00   \n",
       "25%    2.308543e+18  2.251088e+18   2.357806e+18  3.948283e+18   \n",
       "50%    4.613478e+18  4.636270e+18   5.051040e+18  6.738284e+18   \n",
       "75%    6.920994e+18  7.007158e+18   7.565625e+18  7.534239e+18   \n",
       "max    9.223362e+18  9.221980e+18   9.222396e+18  9.151271e+18   \n",
       "\n",
       "       item_price_level  item_sales_level  item_collected_level  \\\n",
       "count     478138.000000      478138.00000         478138.000000   \n",
       "mean           6.777175          11.13384             12.199336   \n",
       "std            1.089037           2.58886              2.497312   \n",
       "min            0.000000          -1.00000              0.000000   \n",
       "25%            6.000000          10.00000             11.000000   \n",
       "50%            7.000000          11.00000             12.000000   \n",
       "75%            8.000000          13.00000             14.000000   \n",
       "max           17.000000          17.00000             17.000000   \n",
       "\n",
       "       item_pv_level       user_id  user_gender_id      ...        \\\n",
       "count  478138.000000  4.781380e+05   478138.000000      ...         \n",
       "mean       17.128676  4.609864e+18        0.213047      ...         \n",
       "std         2.160745  2.663355e+18        0.514699      ...         \n",
       "min         0.000000  2.477979e+13       -1.000000      ...         \n",
       "25%        16.000000  2.302761e+18        0.000000      ...         \n",
       "50%        17.000000  4.608490e+18        0.000000      ...         \n",
       "75%        19.000000  6.914375e+18        0.000000      ...         \n",
       "max        21.000000  9.223345e+18        2.000000      ...         \n",
       "\n",
       "       context_timestamp  context_page_id       shop_id  \\\n",
       "count       4.781380e+05    478138.000000  4.781380e+05   \n",
       "mean        1.537502e+09      4003.362366  4.733842e+18   \n",
       "std         1.726222e+05         4.019709  2.596118e+18   \n",
       "min         1.537200e+09      4001.000000  1.543560e+15   \n",
       "25%         1.537351e+09      4001.000000  2.498543e+18   \n",
       "50%         1.537506e+09      4001.000000  4.629590e+18   \n",
       "75%         1.537635e+09      4004.000000  6.740687e+18   \n",
       "max         1.537805e+09      4020.000000  9.220773e+18   \n",
       "\n",
       "       shop_review_num_level  shop_review_positive_rate  shop_star_level  \\\n",
       "count          478138.000000              478138.000000    478138.000000   \n",
       "mean               15.768353                   0.994830      5013.175240   \n",
       "std                 2.825294                   0.011972         2.590989   \n",
       "min                 0.000000                  -1.000000      4999.000000   \n",
       "25%                14.000000                   0.992779      5012.000000   \n",
       "50%                16.000000                   1.000000      5013.000000   \n",
       "75%                17.000000                   1.000000      5015.000000   \n",
       "max                25.000000                   1.000000      5020.000000   \n",
       "\n",
       "       shop_score_service  shop_score_delivery  shop_score_description  \\\n",
       "count       478138.000000        478138.000000           478138.000000   \n",
       "mean             0.971124             0.970497                0.974863   \n",
       "std              0.023817             0.023776                0.025024   \n",
       "min             -1.000000            -1.000000               -1.000000   \n",
       "25%              0.966360             0.965684                0.969268   \n",
       "50%              0.972347             0.971590                0.978493   \n",
       "75%              0.977822             0.976978                0.983640   \n",
       "max              1.000000             1.000000                1.000000   \n",
       "\n",
       "            is_trade  \n",
       "count  478138.000000  \n",
       "mean        0.018867  \n",
       "std         0.136055  \n",
       "min         0.000000  \n",
       "25%         0.000000  \n",
       "50%         0.000000  \n",
       "75%         0.000000  \n",
       "max         1.000000  \n",
       "\n",
       "[8 rows x 24 columns]"
      ]
     },
     "execution_count": 6,
     "metadata": {},
     "output_type": "execute_result"
    }
   ],
   "source": [
    "df.describe()\n",
    "# test_df.describe()"
   ]
  },
  {
   "cell_type": "markdown",
   "metadata": {},
   "source": [
    " 某些字段的取值范围可以进行缩放\n",
    " \n",
    "    user_age_level-1000\n",
    "    user_occupation_id-2000\n",
    "    user_star_level-3000\n",
    "    context_page_id-4000\n",
    "    shop_star_level-4999"
   ]
  },
  {
   "cell_type": "code",
   "execution_count": 7,
   "metadata": {},
   "outputs": [
    {
     "name": "stdout",
     "output_type": "stream",
     "text": [
      "instance_id: 0\n",
      "item_id: 0\n",
      "item_category_list: 0\n",
      "item_property_list: 0\n",
      "item_brand_id: 473\n",
      "item_city_id: 277\n",
      "item_price_level: 0\n",
      "item_sales_level: 913\n",
      "item_collected_level: 0\n",
      "item_pv_level: 0\n",
      "user_id: 0\n",
      "user_gender_id: 12902\n",
      "user_age_level: 964\n",
      "user_occupation_id: 964\n",
      "user_star_level: 964\n",
      "context_id: 0\n",
      "context_timestamp: 0\n",
      "context_page_id: 0\n",
      "predict_category_property: 0\n",
      "shop_id: 0\n",
      "shop_review_num_level: 0\n",
      "shop_review_positive_rate: 7\n",
      "shop_star_level: 0\n",
      "shop_score_service: 59\n",
      "shop_score_delivery: 59\n",
      "shop_score_description: 59\n",
      "is_trade: 0\n"
     ]
    }
   ],
   "source": [
    "# 获得每个字段的缺失值样本数 原数据中缺失值为-1\n",
    "getDetailOfNAN(df)\n",
    "# getDetailOfNAN(test_df)"
   ]
  },
  {
   "cell_type": "markdown",
   "metadata": {},
   "source": [
    "具有缺失值的特征列为：\n",
    "\n",
    "    item_city_id,item_brand_id,item_sales_level,\n",
    "    user_gender_id,user_age_level,user_occupation_id,user_star_level,\n",
    "    shop_review_positive_rate,shop_score_service,shop_score_delivery,shop_score_description"
   ]
  },
  {
   "cell_type": "markdown",
   "metadata": {},
   "source": [
    "缺失值处理方法：\n",
    "\n",
    "    1、直接删除，不超过样本数的2%,若缺失值占95%且特征不是很重要，则可以选择删除整条特征列\n",
    "    2、采用均值或者中位数（统计值）来进行填补\n",
    "    3、忽略不作处理\n",
    "    4、就近选取最相近的对象最近填补或者K近邻均值填补\n",
    "    5、建模预测：回归、随机森林、聚类均值等"
   ]
  },
  {
   "cell_type": "code",
   "execution_count": 8,
   "metadata": {},
   "outputs": [
    {
     "data": {
      "text/plain": [
       "Counter({-1: 12902, 0: 360817, 1: 94070, 2: 10349})"
      ]
     },
     "execution_count": 8,
     "metadata": {},
     "output_type": "execute_result"
    }
   ],
   "source": [
    "Counter(df['user_gender_id'])"
   ]
  },
  {
   "cell_type": "markdown",
   "metadata": {},
   "source": [
    "# 缺失值处理"
   ]
  },
  {
   "cell_type": "markdown",
   "metadata": {},
   "source": [
    "缺失值的样本量占总样本量的百分比很小，可以直接删除\n",
    "\n",
    "    shop_score_service: 59\n",
    "    shop_score_delivery: 59\n",
    "    shop_score_description: 59\n",
    "    shop_review_positive_rate: 7\n",
    "    item_brand_id: 473\n",
    "    item_city_id: 277"
   ]
  },
  {
   "cell_type": "code",
   "execution_count": 9,
   "metadata": {
    "collapsed": true
   },
   "outputs": [],
   "source": [
    "# 对训练集中部分特征值为NAN的样本进行删除\n",
    "df = df[df['shop_review_positive_rate']!=-1]\n",
    "df = df[df['shop_score_delivery']!=-1]\n",
    "df = df[df['shop_score_description']!=-1]\n",
    "df = df[df['shop_score_service']!=-1]\n",
    "df = df[df['item_brand_id']!=-1]\n",
    "df = df[df['item_city_id']!=-1]\n",
    "\n",
    "df = df.reset_index(drop=True) # 删除部分具有缺失值样本后重新更新数据集的index"
   ]
  },
  {
   "cell_type": "markdown",
   "metadata": {},
   "source": [
    "# 3 对部分字段进行数据标准化等转化方式\n",
    "归一化"
   ]
  },
  {
   "cell_type": "code",
   "execution_count": 10,
   "metadata": {
    "collapsed": true
   },
   "outputs": [],
   "source": [
    "def dataNormalization(df):\n",
    "    df.user_age_level = df.user_age_level.replace(-1,999)\n",
    "    df.user_age_level = df.user_age_level - 1000\n",
    "\n",
    "    df.user_occupation_id = df.user_occupation_id.replace(-1,1999)\n",
    "    df.user_occupation_id = df.user_occupation_id - 2000\n",
    "\n",
    "    df.user_star_level = df.user_star_level.replace(-1,2999)\n",
    "    df.user_star_level = df.user_star_level - 3000\n",
    "\n",
    "    df.context_page_id = df.context_page_id - 4000\n",
    "\n",
    "    df.shop_star_level = df.shop_star_level - 4999\n",
    "    \n",
    "    return df\n",
    "\n",
    "df = dataNormalization(df)\n",
    "test_df = dataNormalization(test_df)"
   ]
  },
  {
   "cell_type": "markdown",
   "metadata": {},
   "source": [
    "缺失值的样本量较多，且达不到完全舍弃该特征的水平，需要进行填补或插补\n",
    "\n",
    "    item_sales_level\n",
    "    user_gender_id （后面one-hot处理）\n",
    "    user_age_level\n",
    "    user_occupation_id（后面one-hot处理）\n",
    "    user_star_level\n",
    "暂时没有头绪，忽略"
   ]
  },
  {
   "cell_type": "markdown",
   "metadata": {},
   "source": [
    "# 特征提取"
   ]
  },
  {
   "cell_type": "markdown",
   "metadata": {},
   "source": [
    "数据转化\n",
    "\n",
    "    item_category_list\n",
    "    item_property_list\n",
    "    predict_category_property\n",
    "是广告类目列表，根目录;子目录;子子目录\n",
    "对该字段进行分割，提取叶节点"
   ]
  },
  {
   "cell_type": "code",
   "execution_count": 11,
   "metadata": {
    "collapsed": true
   },
   "outputs": [],
   "source": [
    "def dataConvert(df):\n",
    "    for i in range(3):\n",
    "        df['item_category_%d'%i] = df['item_category_list'].apply(lambda str1: int(str1.split(';')[i]) if len(str1.split(';'))>i else -1)\n",
    "    df = df.drop(['item_category_list'], 1)\n",
    "    for i in range(3):\n",
    "        df['item_property_%d'%i] = df['item_property_list'].apply(lambda str1: int(str1.split(';')[i]) if len(str1.split(';'))>i else -1)\n",
    "    df = df.drop(['item_property_list'], 1)\n",
    "    for i in range(3):\n",
    "        df['predict_category_property_%d'%i] = df['predict_category_property'].apply(lambda str1: int(str1.split(';')[i].split(':')[0]) \\\n",
    "                                                                                     if len(str1.split(';'))>i else -1)\n",
    "    df = df.drop(['predict_category_property'], 1)\n",
    "    return df\n",
    "\n",
    "df = dataConvert(df)\n",
    "test_df = dataConvert(test_df)"
   ]
  },
  {
   "cell_type": "code",
   "execution_count": 12,
   "metadata": {
    "collapsed": true
   },
   "outputs": [],
   "source": [
    "# 由于instance_id为案例ID，无实际参考价值，可以丢弃\n",
    "# item_category_list,predict_category_property三个字段为非简单数值类型，暂时不考虑\n",
    "\n",
    "# df = df.drop(['instance_id'], 1) # axis 0:index; 1:column"
   ]
  },
  {
   "cell_type": "code",
   "execution_count": 13,
   "metadata": {},
   "outputs": [
    {
     "name": "stdout",
     "output_type": "stream",
     "text": [
      "instance_id: 18371 特异值\n",
      "item_id: 3695 特异值\n",
      "item_brand_id: 1101 特异值\n",
      "item_city_id: 99 特异值\n",
      "item_price_level: 10 特异值\n",
      "item_sales_level: 18 特异值\n",
      "item_collected_level: 18 特异值\n",
      "item_pv_level: 21 特异值\n",
      "user_id: 13573 特异值\n",
      "user_gender_id: 4 特异值\n",
      "user_age_level: 9 特异值\n",
      "user_occupation_id: 5 特异值\n",
      "user_star_level: 12 特异值\n",
      "context_id: 18371 特异值\n",
      "context_timestamp: 15592 特异值\n",
      "context_page_id: 20 特异值\n",
      "shop_id: 2015 特异值\n",
      "shop_review_num_level: 21 特异值\n",
      "shop_review_positive_rate: 1302 特异值\n",
      "shop_star_level: 20 特异值\n",
      "shop_score_service: 1963 特异值\n",
      "shop_score_delivery: 1961 特异值\n",
      "shop_score_description: 1959 特异值\n",
      "item_category_0: 1 特异值\n",
      "item_category_1: 13 特异值\n",
      "item_category_2: 3 特异值\n",
      "item_property_0: 129 特异值\n",
      "item_property_1: 83 特异值\n",
      "item_property_2: 120 特异值\n",
      "predict_category_property_0: 80 特异值\n",
      "predict_category_property_1: 102 特异值\n",
      "predict_category_property_2: 129 特异值\n"
     ]
    }
   ],
   "source": [
    "# 不同离散型特征具有不同的取值\n",
    "\n",
    "# numberOfColValues(df)\n",
    "numberOfColValues(test_df)"
   ]
  },
  {
   "cell_type": "markdown",
   "metadata": {},
   "source": [
    "数据类型转化\n",
    "\n",
    "    context_timestamp\n",
    "将context_timestamp字段进行维度转化成hour/min/hour*60+min和day"
   ]
  },
  {
   "cell_type": "code",
   "execution_count": 14,
   "metadata": {
    "collapsed": true
   },
   "outputs": [],
   "source": [
    "def timeStampConvert(df):\n",
    "    df['context_time'] = [datetime.datetime.fromtimestamp(df['context_timestamp'][i]).hour * 60 + \\\n",
    "                               datetime.datetime.fromtimestamp(df['context_timestamp'][i]).minute for i in range(df.shape[0])]\n",
    "    # df['context_time_minute'] = [datetime.datetime.fromtimestamp(df['context_timestamp'][i]).minute for i in range(df.shape[0])]\n",
    "    df['context_time_weekday'] = [datetime.datetime.fromtimestamp(df['context_timestamp'][i]).weekday() for i in range(df.shape[0])]\n",
    "    # df['context_time'] = df['context_time_hour'] * 60 + df['context_time_minute']\n",
    "    # df = df.drop(['context_timestamp'], 1) # context_time 包含hour和minute信息\n",
    "    return df\n",
    "\n",
    "df = timeStampConvert(df)\n",
    "test_df = timeStampConvert(test_df)"
   ]
  },
  {
   "cell_type": "code",
   "execution_count": 15,
   "metadata": {
    "scrolled": true
   },
   "outputs": [
    {
     "data": {
      "text/html": [
       "<div>\n",
       "<style>\n",
       "    .dataframe thead tr:only-child th {\n",
       "        text-align: right;\n",
       "    }\n",
       "\n",
       "    .dataframe thead th {\n",
       "        text-align: left;\n",
       "    }\n",
       "\n",
       "    .dataframe tbody tr th {\n",
       "        vertical-align: top;\n",
       "    }\n",
       "</style>\n",
       "<table border=\"1\" class=\"dataframe\">\n",
       "  <thead>\n",
       "    <tr style=\"text-align: right;\">\n",
       "      <th></th>\n",
       "      <th>instance_id</th>\n",
       "      <th>item_id</th>\n",
       "      <th>item_brand_id</th>\n",
       "      <th>item_city_id</th>\n",
       "      <th>item_price_level</th>\n",
       "      <th>item_sales_level</th>\n",
       "      <th>item_collected_level</th>\n",
       "      <th>item_pv_level</th>\n",
       "      <th>user_id</th>\n",
       "      <th>user_gender_id</th>\n",
       "      <th>...</th>\n",
       "      <th>item_category_1</th>\n",
       "      <th>item_category_2</th>\n",
       "      <th>item_property_0</th>\n",
       "      <th>item_property_1</th>\n",
       "      <th>item_property_2</th>\n",
       "      <th>predict_category_property_0</th>\n",
       "      <th>predict_category_property_1</th>\n",
       "      <th>predict_category_property_2</th>\n",
       "      <th>context_time</th>\n",
       "      <th>context_time_weekday</th>\n",
       "    </tr>\n",
       "  </thead>\n",
       "  <tbody>\n",
       "    <tr>\n",
       "      <th>0</th>\n",
       "      <td>108641074714126964</td>\n",
       "      <td>3412720377098676069</td>\n",
       "      <td>1975590437749032870</td>\n",
       "      <td>3948283326616421003</td>\n",
       "      <td>3</td>\n",
       "      <td>3</td>\n",
       "      <td>4</td>\n",
       "      <td>14</td>\n",
       "      <td>4505772604969228686</td>\n",
       "      <td>1</td>\n",
       "      <td>...</td>\n",
       "      <td>5799347067982556520</td>\n",
       "      <td>-1</td>\n",
       "      <td>2072967855524022579</td>\n",
       "      <td>5131280576272319091</td>\n",
       "      <td>2636395404473730413</td>\n",
       "      <td>5799347067982556520</td>\n",
       "      <td>509660095530134768</td>\n",
       "      <td>5755694407684602296</td>\n",
       "      <td>609</td>\n",
       "      <td>1</td>\n",
       "    </tr>\n",
       "    <tr>\n",
       "      <th>1</th>\n",
       "      <td>5754713551599725161</td>\n",
       "      <td>3412720377098676069</td>\n",
       "      <td>1975590437749032870</td>\n",
       "      <td>3948283326616421003</td>\n",
       "      <td>3</td>\n",
       "      <td>3</td>\n",
       "      <td>4</td>\n",
       "      <td>14</td>\n",
       "      <td>2692638157208937547</td>\n",
       "      <td>0</td>\n",
       "      <td>...</td>\n",
       "      <td>5799347067982556520</td>\n",
       "      <td>-1</td>\n",
       "      <td>2072967855524022579</td>\n",
       "      <td>5131280576272319091</td>\n",
       "      <td>2636395404473730413</td>\n",
       "      <td>5799347067982556520</td>\n",
       "      <td>7908382889764677758</td>\n",
       "      <td>-1</td>\n",
       "      <td>720</td>\n",
       "      <td>1</td>\n",
       "    </tr>\n",
       "    <tr>\n",
       "      <th>2</th>\n",
       "      <td>842679481291040981</td>\n",
       "      <td>3412720377098676069</td>\n",
       "      <td>1975590437749032870</td>\n",
       "      <td>3948283326616421003</td>\n",
       "      <td>3</td>\n",
       "      <td>3</td>\n",
       "      <td>4</td>\n",
       "      <td>14</td>\n",
       "      <td>5247924392014515924</td>\n",
       "      <td>0</td>\n",
       "      <td>...</td>\n",
       "      <td>5799347067982556520</td>\n",
       "      <td>-1</td>\n",
       "      <td>2072967855524022579</td>\n",
       "      <td>5131280576272319091</td>\n",
       "      <td>2636395404473730413</td>\n",
       "      <td>5799347067982556520</td>\n",
       "      <td>7258015885215914736</td>\n",
       "      <td>7908382889764677758</td>\n",
       "      <td>184</td>\n",
       "      <td>1</td>\n",
       "    </tr>\n",
       "    <tr>\n",
       "      <th>3</th>\n",
       "      <td>937088850059189027</td>\n",
       "      <td>3412720377098676069</td>\n",
       "      <td>1975590437749032870</td>\n",
       "      <td>3948283326616421003</td>\n",
       "      <td>3</td>\n",
       "      <td>3</td>\n",
       "      <td>4</td>\n",
       "      <td>14</td>\n",
       "      <td>2681414445369714628</td>\n",
       "      <td>1</td>\n",
       "      <td>...</td>\n",
       "      <td>5799347067982556520</td>\n",
       "      <td>-1</td>\n",
       "      <td>2072967855524022579</td>\n",
       "      <td>5131280576272319091</td>\n",
       "      <td>2636395404473730413</td>\n",
       "      <td>509660095530134768</td>\n",
       "      <td>5799347067982556520</td>\n",
       "      <td>7908382889764677758</td>\n",
       "      <td>377</td>\n",
       "      <td>1</td>\n",
       "    </tr>\n",
       "    <tr>\n",
       "      <th>4</th>\n",
       "      <td>7975697065017708072</td>\n",
       "      <td>3412720377098676069</td>\n",
       "      <td>1975590437749032870</td>\n",
       "      <td>3948283326616421003</td>\n",
       "      <td>3</td>\n",
       "      <td>3</td>\n",
       "      <td>4</td>\n",
       "      <td>14</td>\n",
       "      <td>2729475788342039013</td>\n",
       "      <td>0</td>\n",
       "      <td>...</td>\n",
       "      <td>5799347067982556520</td>\n",
       "      <td>-1</td>\n",
       "      <td>2072967855524022579</td>\n",
       "      <td>5131280576272319091</td>\n",
       "      <td>2636395404473730413</td>\n",
       "      <td>5799347067982556520</td>\n",
       "      <td>7908382889764677758</td>\n",
       "      <td>-1</td>\n",
       "      <td>1188</td>\n",
       "      <td>1</td>\n",
       "    </tr>\n",
       "  </tbody>\n",
       "</table>\n",
       "<p>5 rows × 35 columns</p>\n",
       "</div>"
      ],
      "text/plain": [
       "           instance_id              item_id        item_brand_id  \\\n",
       "0   108641074714126964  3412720377098676069  1975590437749032870   \n",
       "1  5754713551599725161  3412720377098676069  1975590437749032870   \n",
       "2   842679481291040981  3412720377098676069  1975590437749032870   \n",
       "3   937088850059189027  3412720377098676069  1975590437749032870   \n",
       "4  7975697065017708072  3412720377098676069  1975590437749032870   \n",
       "\n",
       "          item_city_id  item_price_level  item_sales_level  \\\n",
       "0  3948283326616421003                 3                 3   \n",
       "1  3948283326616421003                 3                 3   \n",
       "2  3948283326616421003                 3                 3   \n",
       "3  3948283326616421003                 3                 3   \n",
       "4  3948283326616421003                 3                 3   \n",
       "\n",
       "   item_collected_level  item_pv_level              user_id  user_gender_id  \\\n",
       "0                     4             14  4505772604969228686               1   \n",
       "1                     4             14  2692638157208937547               0   \n",
       "2                     4             14  5247924392014515924               0   \n",
       "3                     4             14  2681414445369714628               1   \n",
       "4                     4             14  2729475788342039013               0   \n",
       "\n",
       "           ...               item_category_1  item_category_2  \\\n",
       "0          ...           5799347067982556520               -1   \n",
       "1          ...           5799347067982556520               -1   \n",
       "2          ...           5799347067982556520               -1   \n",
       "3          ...           5799347067982556520               -1   \n",
       "4          ...           5799347067982556520               -1   \n",
       "\n",
       "       item_property_0      item_property_1      item_property_2  \\\n",
       "0  2072967855524022579  5131280576272319091  2636395404473730413   \n",
       "1  2072967855524022579  5131280576272319091  2636395404473730413   \n",
       "2  2072967855524022579  5131280576272319091  2636395404473730413   \n",
       "3  2072967855524022579  5131280576272319091  2636395404473730413   \n",
       "4  2072967855524022579  5131280576272319091  2636395404473730413   \n",
       "\n",
       "   predict_category_property_0  predict_category_property_1  \\\n",
       "0          5799347067982556520           509660095530134768   \n",
       "1          5799347067982556520          7908382889764677758   \n",
       "2          5799347067982556520          7258015885215914736   \n",
       "3           509660095530134768          5799347067982556520   \n",
       "4          5799347067982556520          7908382889764677758   \n",
       "\n",
       "   predict_category_property_2  context_time  context_time_weekday  \n",
       "0          5755694407684602296           609                     1  \n",
       "1                           -1           720                     1  \n",
       "2          7908382889764677758           184                     1  \n",
       "3          7908382889764677758           377                     1  \n",
       "4                           -1          1188                     1  \n",
       "\n",
       "[5 rows x 35 columns]"
      ]
     },
     "execution_count": 15,
     "metadata": {},
     "output_type": "execute_result"
    }
   ],
   "source": [
    "# df.shape\n",
    "# df.info()\n",
    "df.head()"
   ]
  },
  {
   "cell_type": "markdown",
   "metadata": {},
   "source": [
    "# 数据分析部分"
   ]
  },
  {
   "cell_type": "code",
   "execution_count": 16,
   "metadata": {},
   "outputs": [
    {
     "data": {
      "text/plain": [
       "<matplotlib.axes._subplots.AxesSubplot at 0xad11390>"
      ]
     },
     "execution_count": 16,
     "metadata": {},
     "output_type": "execute_result"
    },
    {
     "data": {
      "image/png": "[encoded data removed]",
      "text/plain": [
       "<matplotlib.figure.Figure at 0xad119e8>"
      ]
     },
     "metadata": {},
     "output_type": "display_data"
    }
   ],
   "source": [
    "df['is_trade'].groupby(df['context_time']).mean().plot(figsize=(20,10))"
   ]
  },
  {
   "cell_type": "markdown",
   "metadata": {},
   "source": [
    "图：以18日-24日这几天所有时间段（分）的转化率分布图\n",
    "凌晨的转化率数据波动剧烈"
   ]
  },
  {
   "cell_type": "code",
   "execution_count": 17,
   "metadata": {},
   "outputs": [
    {
     "data": {
      "text/plain": [
       "<matplotlib.axes._subplots.AxesSubplot at 0x1a04c5f8>"
      ]
     },
     "execution_count": 17,
     "metadata": {},
     "output_type": "execute_result"
    },
    {
     "data": {
      "image/png": "[encoded data removed]",
      "text/plain": [
       "<matplotlib.figure.Figure at 0xa76e198>"
      ]
     },
     "metadata": {},
     "output_type": "display_data"
    }
   ],
   "source": [
    "df.groupby(df['context_time']).apply(lambda df1:df1.shape[0]).plot(figsize=(20,10))"
   ]
  },
  {
   "cell_type": "markdown",
   "metadata": {
    "collapsed": true
   },
   "source": [
    "图： 18日-24日之间每天不同时间段的广告点击量分布图\n",
    "凌晨的点击数量远小于白天，数据中那预测的点击率是在凌晨发生的，注意数据的不平衡问题"
   ]
  },
  {
   "cell_type": "code",
   "execution_count": 18,
   "metadata": {
    "collapsed": true
   },
   "outputs": [],
   "source": [
    "df.to_csv('../Output/train_step2.csv', index=False)\n",
    "test_df.to_csv('../Output/test_step2.csv', index=False)"
   ]
  },
  {
   "cell_type": "code",
   "execution_count": 3,
   "metadata": {
    "collapsed": true
   },
   "outputs": [],
   "source": [
    "df = pd.read_csv('../Output/train_step2.csv') # 预处理后的测试集数据加载\n",
    "test_df = pd.read_csv('../Output/test_step2.csv') # 预处理后的测试集数据加载"
   ]
  },
  {
   "cell_type": "markdown",
   "metadata": {},
   "source": [
    "特殊变量（字符转化变量）-不连续数字或者文本\n",
    "\n",
    "    item_brand_id\n",
    "    item_city_id\n",
    "    \n",
    "    item_id\n",
    "    user_id\n",
    "    context_id 舍弃\n",
    "    shop_id\n",
    "    \n",
    "    item_category_0: 1 特异值    舍弃\n",
    "    item_category_1: 13 特异值\n",
    "    item_category_2: 3 特异值\n",
    "    item_property_0: 216 特异值\n",
    "    item_property_1: 122 特异值\n",
    "    item_property_2: 189 特异值\n",
    "    predict_category_property_0: 283 特异值\n",
    "    predict_category_property_1: 396 特异值\n",
    "    predict_category_property_2: 457 特异值"
   ]
  },
  {
   "cell_type": "code",
   "execution_count": 4,
   "metadata": {
    "collapsed": true
   },
   "outputs": [],
   "source": [
    "rows = df.shape[0]\n",
    "label = df['is_trade']\n",
    "df1 = df.drop(['is_trade'], 1).append(test_df)"
   ]
  },
  {
   "cell_type": "code",
   "execution_count": 5,
   "metadata": {},
   "outputs": [
    {
     "name": "stdout",
     "output_type": "stream",
     "text": [
      "item_brand_id   2061   \n",
      "平均每个特异值有240个样本数\n",
      "item_city_id   128   \n",
      "平均每个特异值有3872个样本数\n",
      "item_id   10155   \n",
      "平均每个特异值有48个样本数\n",
      "user_id   207403   \n",
      "平均每个特异值有2个样本数\n",
      "context_id   495678   \n",
      "平均每个特异值有1个样本数\n",
      "shop_id   3963   \n",
      "平均每个特异值有125个样本数\n",
      "item_category_0   1   \n",
      "平均每个特异值有495705个样本数\n",
      "item_category_1   13   \n",
      "平均每个特异值有38131个样本数\n",
      "item_category_2   3   \n",
      "平均每个特异值有165235个样本数\n",
      "item_property_0   217   \n",
      "平均每个特异值有2284个样本数\n",
      "item_property_1   122   \n",
      "平均每个特异值有4063个样本数\n",
      "item_property_2   192   \n",
      "平均每个特异值有2581个样本数\n",
      "predict_category_property_0   287   \n",
      "平均每个特异值有1727个样本数\n",
      "predict_category_property_1   405   \n",
      "平均每个特异值有1223个样本数\n",
      "predict_category_property_2   472   \n",
      "平均每个特异值有1050个样本数\n"
     ]
    }
   ],
   "source": [
    "# 获得指定特征字段的详细情况，（特异值分布和样本分布）\n",
    "getDetailColumns(df1)"
   ]
  },
  {
   "cell_type": "markdown",
   "metadata": {},
   "source": [
    "context_id基本为样例的标识值，对应文本的编号，1个样本平均对应1个context_id，故舍弃\n",
    "\n",
    "item_category_0为样本的特定值，变动不大，训练集中几乎都一样"
   ]
  },
  {
   "cell_type": "code",
   "execution_count": 6,
   "metadata": {
    "collapsed": true
   },
   "outputs": [],
   "source": [
    "def dropCols(df):\n",
    "    return df.drop(['context_id','item_category_0'], 1)\n",
    "\n",
    "df1 = dropCols(df1)"
   ]
  },
  {
   "cell_type": "markdown",
   "metadata": {},
   "source": [
    "对不连续的数字或者文本进行标号LabelEncoder\n",
    "\n",
    "    item_id\n",
    "    item_city_id\n",
    "    item_brand_id\n",
    "    item_category_1, item_category_2\n",
    "    item_property_0, item_property_1, item_property_2\n",
    "    user_id\n",
    "    shop_id\n",
    "    predict_category_property_0, predict_category_property_1, predict_category_property_2\n"
   ]
  },
  {
   "cell_type": "code",
   "execution_count": 7,
   "metadata": {
    "collapsed": true
   },
   "outputs": [],
   "source": [
    "def dataLabelEncoder(df):\n",
    "    df['item_category_1'] = pd.Categorical(df['item_category_1']).codes\n",
    "    df['item_category_2'] = pd.Categorical(df['item_category_2']).codes\n",
    "\n",
    "    df['item_property_0'] = pd.Categorical(df['item_property_0']).codes\n",
    "    df['item_property_1'] = pd.Categorical(df['item_property_1']).codes\n",
    "    df['item_property_2'] = pd.Categorical(df['item_property_2']).codes\n",
    "\n",
    "    df['predict_category_property_0'] = pd.Categorical(df['predict_category_property_0']).codes\n",
    "    df['predict_category_property_1'] = pd.Categorical(df['predict_category_property_1']).codes\n",
    "    df['predict_category_property_2'] = pd.Categorical(df['predict_category_property_2']).codes\n",
    "\n",
    "    df['shop_id'] = pd.Categorical(df['shop_id']).codes\n",
    "    df['item_brand_id'] = pd.Categorical(df['item_brand_id']).codes\n",
    "    df['item_city_id'] = pd.Categorical(df['item_city_id']).codes\n",
    "    df['user_id'] = pd.Categorical(df['user_id']).codes\n",
    "    df['item_id'] = pd.Categorical(df['item_id']).codes\n",
    "    return df\n",
    "\n",
    "\n",
    "df_enc = dataLabelEncoder(df1)\n",
    "del df1"
   ]
  },
  {
   "cell_type": "markdown",
   "metadata": {},
   "source": [
    "离散变量：有序特征--分类数据\n",
    "\n",
    "    user_occupation_id 用户的预测职业编号：为分类值，采用one-hot编码实现特征数值化\n",
    "    user_gender_id\n",
    "  连续特征\n",
    "  \n",
    "    item_price_level\n",
    "    item_sales_level (-1)\n",
    "    item_collected_level\n",
    "    item_pv_level\n",
    "    user_age_level (-1)\n",
    "    user_star_level (-1)\n",
    "    shop_review_num_level\n",
    "    shop_star_level\n",
    "   \n",
    "    context_page_id\n",
    "    \n",
    "    context_time_weekday\n",
    "    context_time"
   ]
  },
  {
   "cell_type": "code",
   "execution_count": 8,
   "metadata": {},
   "outputs": [
    {
     "name": "stdout",
     "output_type": "stream",
     "text": [
      "instance_id: 495652 特异值\n",
      "item_id: 10155 特异值\n",
      "item_brand_id: 2061 特异值\n",
      "item_city_id: 128 特异值\n",
      "item_price_level: 14 特异值\n",
      "item_sales_level: 18 特异值\n",
      "item_collected_level: 18 特异值\n",
      "item_pv_level: 22 特异值\n",
      "user_id: 207403 特异值\n",
      "user_gender_id: 4 特异值\n",
      "user_age_level: 9 特异值\n",
      "user_occupation_id: 5 特异值\n",
      "user_star_level: 12 特异值\n",
      "context_timestamp: 297135 特异值\n",
      "context_page_id: 20 特异值\n",
      "shop_id: 3963 特异值\n",
      "shop_review_num_level: 24 特异值\n",
      "shop_review_positive_rate: 13011 特异值\n",
      "shop_star_level: 21 特异值\n",
      "shop_score_service: 18204 特异值\n",
      "shop_score_delivery: 18258 特异值\n",
      "shop_score_description: 18301 特异值\n",
      "item_category_1: 13 特异值\n",
      "item_category_2: 3 特异值\n",
      "item_property_0: 217 特异值\n",
      "item_property_1: 122 特异值\n",
      "item_property_2: 192 特异值\n",
      "predict_category_property_0: 287 特异值\n",
      "predict_category_property_1: 405 特异值\n",
      "predict_category_property_2: 472 特异值\n",
      "context_time: 1440 特异值\n",
      "context_time_weekday: 7 特异值\n"
     ]
    }
   ],
   "source": [
    "# 不同离散型特征具有不同的取值\n",
    "numberOfColValues(df_enc)"
   ]
  },
  {
   "cell_type": "code",
   "execution_count": 9,
   "metadata": {},
   "outputs": [
    {
     "data": {
      "text/plain": [
       "(495705, 32)"
      ]
     },
     "execution_count": 9,
     "metadata": {},
     "output_type": "execute_result"
    }
   ],
   "source": [
    "df_enc.shape\n",
    "# df['item_category_0'] = df['item_category_0'].astype(np.int64)"
   ]
  },
  {
   "cell_type": "code",
   "execution_count": 10,
   "metadata": {},
   "outputs": [
    {
     "ename": "MemoryError",
     "evalue": "",
     "output_type": "error",
     "traceback": [
      "\u001b[1;31m---------------------------------------------------------------------------\u001b[0m",
      "\u001b[1;31mMemoryError\u001b[0m                               Traceback (most recent call last)",
      "\u001b[1;32m<ipython-input-10-1fa30d82d30f>\u001b[0m in \u001b[0;36m<module>\u001b[1;34m()\u001b[0m\n\u001b[0;32m      1\u001b[0m \u001b[1;31m# 由于user_occupation_id 为无序离散值，one-hot离散化\u001b[0m\u001b[1;33m\u001b[0m\u001b[1;33m\u001b[0m\u001b[0m\n\u001b[1;32m----> 2\u001b[1;33m \u001b[0mdf_enc\u001b[0m \u001b[1;33m=\u001b[0m \u001b[0mpd\u001b[0m\u001b[1;33m.\u001b[0m\u001b[0mget_dummies\u001b[0m\u001b[1;33m(\u001b[0m\u001b[0mdf_enc\u001b[0m\u001b[1;33m,\u001b[0m \u001b[0mcolumns\u001b[0m \u001b[1;33m=\u001b[0m\u001b[1;33m[\u001b[0m\u001b[1;34m'user_occupation_id'\u001b[0m\u001b[1;33m,\u001b[0m \u001b[1;34m'user_gender_id'\u001b[0m\u001b[1;33m,\u001b[0m\u001b[1;34m'item_sales_level'\u001b[0m\u001b[1;33m,\u001b[0m\u001b[1;34m'user_age_level'\u001b[0m\u001b[1;33m,\u001b[0m\u001b[1;34m'user_star_level'\u001b[0m\u001b[1;33m,\u001b[0m\u001b[1;34m'item_category_1'\u001b[0m\u001b[1;33m,\u001b[0m\u001b[1;34m'item_category_2'\u001b[0m\u001b[1;33m,\u001b[0m\u001b[1;34m'item_property_0'\u001b[0m\u001b[1;33m,\u001b[0m\u001b[1;34m'item_property_1'\u001b[0m\u001b[1;33m,\u001b[0m\u001b[1;34m'item_property_2'\u001b[0m\u001b[1;33m,\u001b[0m\u001b[1;34m'predict_category_property_0'\u001b[0m\u001b[1;33m,\u001b[0m\u001b[1;34m'predict_category_property_1'\u001b[0m\u001b[1;33m,\u001b[0m\u001b[1;34m'predict_category_property_2'\u001b[0m\u001b[1;33m,\u001b[0m\u001b[1;34m'shop_id'\u001b[0m\u001b[1;33m,\u001b[0m\u001b[1;34m'item_brand_id'\u001b[0m\u001b[1;33m,\u001b[0m\u001b[1;34m'item_city_id'\u001b[0m\u001b[1;33m,\u001b[0m\u001b[1;34m'user_id'\u001b[0m\u001b[1;33m,\u001b[0m\u001b[1;34m'item_id'\u001b[0m\u001b[1;33m]\u001b[0m\u001b[1;33m)\u001b[0m\u001b[1;33m\u001b[0m\u001b[0m\n\u001b[0m\u001b[0;32m      3\u001b[0m \u001b[0mprint\u001b[0m \u001b[1;33m(\u001b[0m\u001b[0mdf_enc\u001b[0m\u001b[1;33m.\u001b[0m\u001b[0mshape\u001b[0m\u001b[1;33m)\u001b[0m\u001b[1;33m\u001b[0m\u001b[0m\n",
      "\u001b[1;32mC:\\ProgramData\\Anaconda3\\lib\\site-packages\\pandas\\core\\reshape\\reshape.py\u001b[0m in \u001b[0;36mget_dummies\u001b[1;34m(data, prefix, prefix_sep, dummy_na, columns, sparse, drop_first)\u001b[0m\n\u001b[0;32m   1209\u001b[0m             dummy = _get_dummies_1d(data[col], prefix=pre, prefix_sep=sep,\n\u001b[0;32m   1210\u001b[0m                                     \u001b[0mdummy_na\u001b[0m\u001b[1;33m=\u001b[0m\u001b[0mdummy_na\u001b[0m\u001b[1;33m,\u001b[0m \u001b[0msparse\u001b[0m\u001b[1;33m=\u001b[0m\u001b[0msparse\u001b[0m\u001b[1;33m,\u001b[0m\u001b[1;33m\u001b[0m\u001b[0m\n\u001b[1;32m-> 1211\u001b[1;33m                                     drop_first=drop_first)\n\u001b[0m\u001b[0;32m   1212\u001b[0m             \u001b[0mwith_dummies\u001b[0m\u001b[1;33m.\u001b[0m\u001b[0mappend\u001b[0m\u001b[1;33m(\u001b[0m\u001b[0mdummy\u001b[0m\u001b[1;33m)\u001b[0m\u001b[1;33m\u001b[0m\u001b[0m\n\u001b[0;32m   1213\u001b[0m         \u001b[0mresult\u001b[0m \u001b[1;33m=\u001b[0m \u001b[0mconcat\u001b[0m\u001b[1;33m(\u001b[0m\u001b[0mwith_dummies\u001b[0m\u001b[1;33m,\u001b[0m \u001b[0maxis\u001b[0m\u001b[1;33m=\u001b[0m\u001b[1;36m1\u001b[0m\u001b[1;33m)\u001b[0m\u001b[1;33m\u001b[0m\u001b[0m\n",
      "\u001b[1;32mC:\\ProgramData\\Anaconda3\\lib\\site-packages\\pandas\\core\\reshape\\reshape.py\u001b[0m in \u001b[0;36m_get_dummies_1d\u001b[1;34m(data, prefix, prefix_sep, dummy_na, sparse, drop_first)\u001b[0m\n\u001b[0;32m   1285\u001b[0m \u001b[1;33m\u001b[0m\u001b[0m\n\u001b[0;32m   1286\u001b[0m     \u001b[1;32melse\u001b[0m\u001b[1;33m:\u001b[0m\u001b[1;33m\u001b[0m\u001b[0m\n\u001b[1;32m-> 1287\u001b[1;33m         \u001b[0mdummy_mat\u001b[0m \u001b[1;33m=\u001b[0m \u001b[0mnp\u001b[0m\u001b[1;33m.\u001b[0m\u001b[0meye\u001b[0m\u001b[1;33m(\u001b[0m\u001b[0mnumber_of_cols\u001b[0m\u001b[1;33m,\u001b[0m \u001b[0mdtype\u001b[0m\u001b[1;33m=\u001b[0m\u001b[0mnp\u001b[0m\u001b[1;33m.\u001b[0m\u001b[0muint8\u001b[0m\u001b[1;33m)\u001b[0m\u001b[1;33m.\u001b[0m\u001b[0mtake\u001b[0m\u001b[1;33m(\u001b[0m\u001b[0mcodes\u001b[0m\u001b[1;33m,\u001b[0m \u001b[0maxis\u001b[0m\u001b[1;33m=\u001b[0m\u001b[1;36m0\u001b[0m\u001b[1;33m)\u001b[0m\u001b[1;33m\u001b[0m\u001b[0m\n\u001b[0m\u001b[0;32m   1288\u001b[0m \u001b[1;33m\u001b[0m\u001b[0m\n\u001b[0;32m   1289\u001b[0m         \u001b[1;32mif\u001b[0m \u001b[1;32mnot\u001b[0m \u001b[0mdummy_na\u001b[0m\u001b[1;33m:\u001b[0m\u001b[1;33m\u001b[0m\u001b[0m\n",
      "\u001b[1;32mC:\\ProgramData\\Anaconda3\\lib\\site-packages\\numpy\\lib\\twodim_base.py\u001b[0m in \u001b[0;36meye\u001b[1;34m(N, M, k, dtype)\u001b[0m\n\u001b[0;32m    178\u001b[0m     \u001b[1;32mif\u001b[0m \u001b[0mM\u001b[0m \u001b[1;32mis\u001b[0m \u001b[1;32mNone\u001b[0m\u001b[1;33m:\u001b[0m\u001b[1;33m\u001b[0m\u001b[0m\n\u001b[0;32m    179\u001b[0m         \u001b[0mM\u001b[0m \u001b[1;33m=\u001b[0m \u001b[0mN\u001b[0m\u001b[1;33m\u001b[0m\u001b[0m\n\u001b[1;32m--> 180\u001b[1;33m     \u001b[0mm\u001b[0m \u001b[1;33m=\u001b[0m \u001b[0mzeros\u001b[0m\u001b[1;33m(\u001b[0m\u001b[1;33m(\u001b[0m\u001b[0mN\u001b[0m\u001b[1;33m,\u001b[0m \u001b[0mM\u001b[0m\u001b[1;33m)\u001b[0m\u001b[1;33m,\u001b[0m \u001b[0mdtype\u001b[0m\u001b[1;33m=\u001b[0m\u001b[0mdtype\u001b[0m\u001b[1;33m)\u001b[0m\u001b[1;33m\u001b[0m\u001b[0m\n\u001b[0m\u001b[0;32m    181\u001b[0m     \u001b[1;32mif\u001b[0m \u001b[0mk\u001b[0m \u001b[1;33m>=\u001b[0m \u001b[0mM\u001b[0m\u001b[1;33m:\u001b[0m\u001b[1;33m\u001b[0m\u001b[0m\n\u001b[0;32m    182\u001b[0m         \u001b[1;32mreturn\u001b[0m \u001b[0mm\u001b[0m\u001b[1;33m\u001b[0m\u001b[0m\n",
      "\u001b[1;31mMemoryError\u001b[0m: "
     ]
    }
   ],
   "source": [
    "# 由于user_occupation_id 为无序离散值，one-hot离散化\n",
    "df_enc = pd.get_dummies(df_enc, columns =['user_occupation_id', 'user_gender_id','item_sales_level','user_age_level','user_star_level','item_category_1','item_category_2','item_property_0','item_property_1','item_property_2','predict_category_property_0','predict_category_property_1','predict_category_property_2','shop_id','item_brand_id','item_city_id','user_id','item_id'], spares=True)\n",
    "print (df_enc.shape)"
   ]
  },
  {
   "cell_type": "code",
   "execution_count": 10,
   "metadata": {
    "collapsed": true
   },
   "outputs": [],
   "source": [
    "\n",
    ".label = pd.DataFrame({'is_trade':label})\n",
    "test_df = df_enc[rows:]\n",
    "df = df_enc[0:rows].merge(label, left_index=True, right_index=True)\n",
    "del df_enc, rows"
   ]
  },
  {
   "cell_type": "code",
   "execution_count": 11,
   "metadata": {},
   "outputs": [
    {
     "name": "stdout",
     "output_type": "stream",
     "text": [
      "<class 'pandas.core.frame.DataFrame'>\n",
      "Int64Index: 477334 entries, 0 to 477333\n",
      "Data columns (total 76 columns):\n",
      "instance_id                    477334 non-null int64\n",
      "item_id                        477334 non-null int16\n",
      "item_brand_id                  477334 non-null int16\n",
      "item_city_id                   477334 non-null int16\n",
      "item_price_level               477334 non-null int64\n",
      "item_collected_level           477334 non-null int64\n",
      "item_pv_level                  477334 non-null int64\n",
      "user_id                        477334 non-null int32\n",
      "context_timestamp              477334 non-null int64\n",
      "context_page_id                477334 non-null int64\n",
      "shop_id                        477334 non-null int16\n",
      "shop_review_num_level          477334 non-null int64\n",
      "shop_review_positive_rate      477334 non-null float64\n",
      "shop_star_level                477334 non-null int64\n",
      "shop_score_service             477334 non-null float64\n",
      "shop_score_delivery            477334 non-null float64\n",
      "shop_score_description         477334 non-null float64\n",
      "item_category_1                477334 non-null int8\n",
      "item_category_2                477334 non-null int8\n",
      "item_property_0                477334 non-null int16\n",
      "item_property_1                477334 non-null int8\n",
      "item_property_2                477334 non-null int16\n",
      "predict_category_property_0    477334 non-null int16\n",
      "predict_category_property_1    477334 non-null int16\n",
      "predict_category_property_2    477334 non-null int16\n",
      "context_time                   477334 non-null int64\n",
      "context_time_weekday           477334 non-null int64\n",
      "user_occupation_id_-1          477334 non-null uint8\n",
      "user_occupation_id_2           477334 non-null uint8\n",
      "user_occupation_id_3           477334 non-null uint8\n",
      "user_occupation_id_4           477334 non-null uint8\n",
      "user_occupation_id_5           477334 non-null uint8\n",
      "user_gender_id_-1              477334 non-null uint8\n",
      "user_gender_id_0               477334 non-null uint8\n",
      "user_gender_id_1               477334 non-null uint8\n",
      "user_gender_id_2               477334 non-null uint8\n",
      "item_sales_level_-1            477334 non-null uint8\n",
      "item_sales_level_1             477334 non-null uint8\n",
      "item_sales_level_2             477334 non-null uint8\n",
      "item_sales_level_3             477334 non-null uint8\n",
      "item_sales_level_4             477334 non-null uint8\n",
      "item_sales_level_5             477334 non-null uint8\n",
      "item_sales_level_6             477334 non-null uint8\n",
      "item_sales_level_7             477334 non-null uint8\n",
      "item_sales_level_8             477334 non-null uint8\n",
      "item_sales_level_9             477334 non-null uint8\n",
      "item_sales_level_10            477334 non-null uint8\n",
      "item_sales_level_11            477334 non-null uint8\n",
      "item_sales_level_12            477334 non-null uint8\n",
      "item_sales_level_13            477334 non-null uint8\n",
      "item_sales_level_14            477334 non-null uint8\n",
      "item_sales_level_15            477334 non-null uint8\n",
      "item_sales_level_16            477334 non-null uint8\n",
      "item_sales_level_17            477334 non-null uint8\n",
      "user_age_level_-1              477334 non-null uint8\n",
      "user_age_level_0               477334 non-null uint8\n",
      "user_age_level_1               477334 non-null uint8\n",
      "user_age_level_2               477334 non-null uint8\n",
      "user_age_level_3               477334 non-null uint8\n",
      "user_age_level_4               477334 non-null uint8\n",
      "user_age_level_5               477334 non-null uint8\n",
      "user_age_level_6               477334 non-null uint8\n",
      "user_age_level_7               477334 non-null uint8\n",
      "user_star_level_-1             477334 non-null uint8\n",
      "user_star_level_0              477334 non-null uint8\n",
      "user_star_level_1              477334 non-null uint8\n",
      "user_star_level_2              477334 non-null uint8\n",
      "user_star_level_3              477334 non-null uint8\n",
      "user_star_level_4              477334 non-null uint8\n",
      "user_star_level_5              477334 non-null uint8\n",
      "user_star_level_6              477334 non-null uint8\n",
      "user_star_level_7              477334 non-null uint8\n",
      "user_star_level_8              477334 non-null uint8\n",
      "user_star_level_9              477334 non-null uint8\n",
      "user_star_level_10             477334 non-null uint8\n",
      "is_trade                       477334 non-null int64\n",
      "dtypes: float64(4), int16(9), int32(1), int64(11), int8(3), uint8(48)\n",
      "memory usage: 111.5 MB\n"
     ]
    }
   ],
   "source": [
    "df.info()"
   ]
  },
  {
   "cell_type": "markdown",
   "metadata": {},
   "source": [
    "连续变量：\n",
    "\n",
    "    shop_review_positive_rate\n",
    "    shop_score_service\n",
    "    shop_score_delivery\n",
    "    shop_score_description\n",
    "    "
   ]
  },
  {
   "cell_type": "code",
   "execution_count": 21,
   "metadata": {},
   "outputs": [
    {
     "data": {
      "image/png": "[encoded data removed]",
      "text/plain": [
       "<matplotlib.figure.Figure at 0x1a048940>"
      ]
     },
     "metadata": {},
     "output_type": "display_data"
    }
   ],
   "source": [
    "# 对连续变量特征进行直方图分析\n",
    "import matplotlib.pyplot as plt \n",
    "\n",
    "plt.figure(figsize=(12,18))\n",
    "plt.subplot(4,1,1)\n",
    "plt.hist(df['shop_review_positive_rate'], 100)\n",
    "plt.subplot(4,1,2)\n",
    "plt.hist(df['shop_score_service'], 100)\n",
    "plt.subplot(4,1,3)\n",
    "plt.hist(df['shop_score_delivery'], 100)\n",
    "plt.subplot(4,1,4)\n",
    "plt.hist(df['shop_score_description'], 100)\n",
    "plt.show()"
   ]
  },
  {
   "cell_type": "markdown",
   "metadata": {},
   "source": [
    "根据连续变量的直方图分析，对连续变量进行二值化处理，针对LR模型"
   ]
  },
  {
   "cell_type": "code",
   "execution_count": 22,
   "metadata": {},
   "outputs": [
    {
     "data": {
      "text/html": [
       "<div>\n",
       "<style>\n",
       "    .dataframe thead tr:only-child th {\n",
       "        text-align: right;\n",
       "    }\n",
       "\n",
       "    .dataframe thead th {\n",
       "        text-align: left;\n",
       "    }\n",
       "\n",
       "    .dataframe tbody tr th {\n",
       "        vertical-align: top;\n",
       "    }\n",
       "</style>\n",
       "<table border=\"1\" class=\"dataframe\">\n",
       "  <thead>\n",
       "    <tr style=\"text-align: right;\">\n",
       "      <th></th>\n",
       "      <th>shop_review_positive_rate</th>\n",
       "      <th>shop_score_service</th>\n",
       "      <th>shop_score_delivery</th>\n",
       "      <th>shop_score_description</th>\n",
       "    </tr>\n",
       "  </thead>\n",
       "  <tbody>\n",
       "    <tr>\n",
       "      <th>count</th>\n",
       "      <td>477334.000000</td>\n",
       "      <td>477334.000000</td>\n",
       "      <td>477334.000000</td>\n",
       "      <td>477334.000000</td>\n",
       "    </tr>\n",
       "    <tr>\n",
       "      <th>mean</th>\n",
       "      <td>0.994869</td>\n",
       "      <td>0.971364</td>\n",
       "      <td>0.970737</td>\n",
       "      <td>0.975115</td>\n",
       "    </tr>\n",
       "    <tr>\n",
       "      <th>std</th>\n",
       "      <td>0.009212</td>\n",
       "      <td>0.009361</td>\n",
       "      <td>0.009275</td>\n",
       "      <td>0.012029</td>\n",
       "    </tr>\n",
       "    <tr>\n",
       "      <th>min</th>\n",
       "      <td>0.714286</td>\n",
       "      <td>0.786667</td>\n",
       "      <td>0.830000</td>\n",
       "      <td>0.786667</td>\n",
       "    </tr>\n",
       "    <tr>\n",
       "      <th>25%</th>\n",
       "      <td>0.992807</td>\n",
       "      <td>0.966363</td>\n",
       "      <td>0.965684</td>\n",
       "      <td>0.969299</td>\n",
       "    </tr>\n",
       "    <tr>\n",
       "      <th>50%</th>\n",
       "      <td>1.000000</td>\n",
       "      <td>0.972347</td>\n",
       "      <td>0.971582</td>\n",
       "      <td>0.978493</td>\n",
       "    </tr>\n",
       "    <tr>\n",
       "      <th>75%</th>\n",
       "      <td>1.000000</td>\n",
       "      <td>0.977812</td>\n",
       "      <td>0.976951</td>\n",
       "      <td>0.983639</td>\n",
       "    </tr>\n",
       "    <tr>\n",
       "      <th>max</th>\n",
       "      <td>1.000000</td>\n",
       "      <td>1.000000</td>\n",
       "      <td>1.000000</td>\n",
       "      <td>1.000000</td>\n",
       "    </tr>\n",
       "  </tbody>\n",
       "</table>\n",
       "</div>"
      ],
      "text/plain": [
       "       shop_review_positive_rate  shop_score_service  shop_score_delivery  \\\n",
       "count              477334.000000       477334.000000        477334.000000   \n",
       "mean                    0.994869            0.971364             0.970737   \n",
       "std                     0.009212            0.009361             0.009275   \n",
       "min                     0.714286            0.786667             0.830000   \n",
       "25%                     0.992807            0.966363             0.965684   \n",
       "50%                     1.000000            0.972347             0.971582   \n",
       "75%                     1.000000            0.977812             0.976951   \n",
       "max                     1.000000            1.000000             1.000000   \n",
       "\n",
       "       shop_score_description  \n",
       "count           477334.000000  \n",
       "mean                 0.975115  \n",
       "std                  0.012029  \n",
       "min                  0.786667  \n",
       "25%                  0.969299  \n",
       "50%                  0.978493  \n",
       "75%                  0.983639  \n",
       "max                  1.000000  "
      ]
     },
     "execution_count": 22,
     "metadata": {},
     "output_type": "execute_result"
    }
   ],
   "source": [
    "df[['shop_review_positive_rate','shop_score_service', 'shop_score_delivery', 'shop_score_description']].describe()"
   ]
  },
  {
   "cell_type": "code",
   "execution_count": 20,
   "metadata": {
    "collapsed": true
   },
   "outputs": [],
   "source": [
    "# df = df[df.shop_review_positive_rate>=0.95]\n",
    "# df = df[df.shop_score_service>=0.925]\n",
    "# df = df[df.shop_score_delivery>=0.9]\n",
    "# df = df[df.shop_score_description>=0.91]\n",
    "\n",
    "# df['shop_review_positive_rate'] = df['shop_review_positive_rate'].apply(lambda x:int(x>=0.95)\n",
    "# df['shop_score_service'] = df['shop_score_service'].apply(lambda x:int(x>=0.925)\n",
    "# df['shop_score_delivery'] = df['shop_score_delivery'].apply(lambda x:int(x>=0.9)\n",
    "# df['shop_score_description'] = df['shop_score_description'].apply(lambda x:int(x>=0.91)"
   ]
  },
  {
   "cell_type": "markdown",
   "metadata": {},
   "source": [
    "# 数据处理完毕，保存"
   ]
  },
  {
   "cell_type": "code",
   "execution_count": 12,
   "metadata": {
    "collapsed": true
   },
   "outputs": [],
   "source": [
    "df.to_csv('../Output/train_step3.csv', index=False)\n",
    "test_df.to_csv('../Output/test_step3.csv', index=False)"
   ]
  },
  {
   "cell_type": "code",
   "execution_count": null,
   "metadata": {
    "collapsed": true
   },
   "outputs": [],
   "source": []
  }
 ],
 "metadata": {
  "kernelspec": {
   "display_name": "Python 3",
   "language": "python",
   "name": "python3"
  },
  "language_info": {
   "codemirror_mode": {
    "name": "ipython",
    "version": 3
   },
   "file_extension": ".py",
   "mimetype": "text/x-python",
   "name": "python",
   "nbconvert_exporter": "python",
   "pygments_lexer": "ipython3",
   "version": "3.6.3"
  }
 },
 "nbformat": 4,
 "nbformat_minor": 2
}
