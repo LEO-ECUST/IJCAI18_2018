{
 "cells": [
  {
   "cell_type": "code",
   "execution_count": 2,
   "metadata": {
    "collapsed": true
   },
   "outputs": [],
   "source": [
    "import pandas as pd\n",
    "from collections import Counter\n",
    "import datetime\n",
    "import numpy as np\n",
    "%matplotlib inline"
   ]
  },
  {
   "cell_type": "code",
   "execution_count": 3,
   "metadata": {
    "collapsed": true
   },
   "outputs": [],
   "source": [
    "from sklearn import preprocessing\n",
    "from sklearn.metrics import log_loss"
   ]
  },
  {
   "cell_type": "code",
   "execution_count": 4,
   "metadata": {
    "collapsed": true
   },
   "outputs": [],
   "source": [
    "df = pd.read_csv('../Output/train_step3.csv') # 数据加载\n",
    "test_data = pd.read_csv('../Output/test_step3.csv')"
   ]
  },
  {
   "cell_type": "code",
   "execution_count": 4,
   "metadata": {},
   "outputs": [
    {
     "name": "stdout",
     "output_type": "stream",
     "text": [
      "<class 'pandas.core.frame.DataFrame'>\n",
      "RangeIndex: 477334 entries, 0 to 477333\n",
      "Data columns (total 39 columns):\n",
      "item_id                        477334 non-null int64\n",
      "item_brand_id                  477334 non-null int64\n",
      "item_city_id                   477334 non-null int64\n",
      "item_price_level               477334 non-null int64\n",
      "item_sales_level               477334 non-null int64\n",
      "item_collected_level           477334 non-null int64\n",
      "item_pv_level                  477334 non-null int64\n",
      "user_id                        477334 non-null int64\n",
      "user_age_level                 477334 non-null int64\n",
      "user_star_level                477334 non-null int64\n",
      "context_timestamp              477334 non-null int64\n",
      "context_page_id                477334 non-null int64\n",
      "shop_id                        477334 non-null int64\n",
      "shop_review_num_level          477334 non-null int64\n",
      "shop_review_positive_rate      477334 non-null float64\n",
      "shop_star_level                477334 non-null int64\n",
      "shop_score_service             477334 non-null float64\n",
      "shop_score_delivery            477334 non-null float64\n",
      "shop_score_description         477334 non-null float64\n",
      "is_trade                       477334 non-null int64\n",
      "item_category_1                477334 non-null int64\n",
      "item_category_2                477334 non-null int64\n",
      "item_property_0                477334 non-null int64\n",
      "item_property_1                477334 non-null int64\n",
      "item_property_2                477334 non-null int64\n",
      "predict_category_property_0    477334 non-null int64\n",
      "predict_category_property_1    477334 non-null int64\n",
      "predict_category_property_2    477334 non-null int64\n",
      "context_time                   477334 non-null int64\n",
      "context_time_weekday           477334 non-null int64\n",
      "user_occupation_id_-1          477334 non-null int64\n",
      "user_occupation_id_2           477334 non-null int64\n",
      "user_occupation_id_3           477334 non-null int64\n",
      "user_occupation_id_4           477334 non-null int64\n",
      "user_occupation_id_5           477334 non-null int64\n",
      "user_gender_id_-1              477334 non-null int64\n",
      "user_gender_id_0               477334 non-null int64\n",
      "user_gender_id_1               477334 non-null int64\n",
      "user_gender_id_2               477334 non-null int64\n",
      "dtypes: float64(4), int64(35)\n",
      "memory usage: 142.0 MB\n"
     ]
    }
   ],
   "source": [
    "df.info()"
   ]
  },
  {
   "cell_type": "markdown",
   "metadata": {},
   "source": [
    "将数据集按照context_timestamp的日期划分成训练集和测试集"
   ]
  },
  {
   "cell_type": "code",
   "execution_count": 4,
   "metadata": {},
   "outputs": [
    {
     "data": {
      "text/plain": [
       "Counter({18: 78165,\n",
       "         19: 70790,\n",
       "         20: 68270,\n",
       "         21: 71063,\n",
       "         22: 68186,\n",
       "         23: 63521,\n",
       "         24: 57339})"
      ]
     },
     "execution_count": 4,
     "metadata": {},
     "output_type": "execute_result"
    }
   ],
   "source": [
    "ts = [datetime.datetime.fromtimestamp(df['context_timestamp'][i]).day for i in range(df.shape[0])]\n",
    "Counter(ts)"
   ]
  },
  {
   "cell_type": "markdown",
   "metadata": {},
   "source": [
    "18-23日的当成训练集，24日的当成测试集"
   ]
  },
  {
   "cell_type": "code",
   "execution_count": 5,
   "metadata": {
    "collapsed": true
   },
   "outputs": [],
   "source": [
    "df['context_time_day'] = [datetime.datetime.fromtimestamp(df['context_timestamp'][i]).day for i in range(df.shape[0])]"
   ]
  },
  {
   "cell_type": "code",
   "execution_count": 6,
   "metadata": {
    "collapsed": true
   },
   "outputs": [],
   "source": [
    "df1 = df.drop(['context_time_day', 'context_timestamp','instance_id'], 1)\n",
    "test_data = test_data.drop(['context_timestamp'], 1)"
   ]
  },
  {
   "cell_type": "code",
   "execution_count": 7,
   "metadata": {
    "collapsed": true
   },
   "outputs": [],
   "source": [
    "df_label = df1.pop('is_trade')\n",
    "df_data = df1\n",
    "del df1"
   ]
  },
  {
   "cell_type": "code",
   "execution_count": 8,
   "metadata": {
    "collapsed": true
   },
   "outputs": [],
   "source": [
    "instance_df = test_data.pop('instance_id') # pd.series\n",
    "\n",
    "rows = df_data.shape[0]\n",
    "merge_data = df_data.append(test_data)"
   ]
  },
  {
   "cell_type": "code",
   "execution_count": 8,
   "metadata": {
    "collapsed": true
   },
   "outputs": [],
   "source": [
    "merge_data.info()"
   ]
  },
  {
   "cell_type": "code",
   "execution_count": 9,
   "metadata": {
    "collapsed": true
   },
   "outputs": [],
   "source": [
    "scale_data = preprocessing.scale(merge_data)\n",
    "\n",
    "data = scale_data[0:rows]  # 训练集数据\n",
    "test_data = scale_data[rows:] # 测试集数据"
   ]
  },
  {
   "cell_type": "code",
   "execution_count": 10,
   "metadata": {
    "collapsed": true
   },
   "outputs": [],
   "source": [
    "train_df = data[df['context_time_day']<=23]\n",
    "test_df = data[df['context_time_day']>23]"
   ]
  },
  {
   "cell_type": "code",
   "execution_count": 11,
   "metadata": {
    "collapsed": true
   },
   "outputs": [],
   "source": [
    "train_df_label = df_label[df['context_time_day']<=23]\n",
    "test_df_label = df_label[df['context_time_day']>23]"
   ]
  },
  {
   "cell_type": "code",
   "execution_count": 12,
   "metadata": {
    "collapsed": true
   },
   "outputs": [],
   "source": [
    "train_df"
   ]
  },
  {
   "cell_type": "markdown",
   "metadata": {},
   "source": [
    "# base_line\n",
    "LinearRegression线性回归模型"
   ]
  },
  {
   "cell_type": "code",
   "execution_count": null,
   "metadata": {
    "collapsed": true
   },
   "outputs": [],
   "source": [
    "from sklearn import linear_model"
   ]
  },
  {
   "cell_type": "code",
   "execution_count": 11,
   "metadata": {
    "collapsed": true
   },
   "outputs": [],
   "source": [
    "LR_model = linear_model.LinearRegression()"
   ]
  },
  {
   "cell_type": "code",
   "execution_count": 12,
   "metadata": {},
   "outputs": [
    {
     "data": {
      "text/plain": [
       "LinearRegression(copy_X=True, fit_intercept=True, n_jobs=1, normalize=False)"
      ]
     },
     "execution_count": 12,
     "metadata": {},
     "output_type": "execute_result"
    }
   ],
   "source": [
    "LR_model.fit(train_df, train_df_label)"
   ]
  },
  {
   "cell_type": "code",
   "execution_count": 13,
   "metadata": {},
   "outputs": [
    {
     "name": "stdout",
     "output_type": "stream",
     "text": [
      "[  1.64462649e-04  -7.59378476e-04  -4.78603443e-04  -5.22415029e-03\n",
      "  -5.23812786e-03  -4.06937069e-03  -1.13207445e-04  -1.24624165e-03\n",
      "   2.86074570e-04  -3.88124243e-03   2.45893100e-04   1.87721684e-03\n",
      "   3.27046745e-03  -5.85566825e-03  -6.83376042e-04   9.25856840e-05\n",
      "   1.32941609e-03   1.20688466e-03  -6.47682743e-05   1.31912207e-04\n",
      "   1.26124384e-03   1.17390892e-03   1.14826464e-03  -2.25812485e-03\n",
      "  -9.61062655e-04  -5.33575071e+10   2.90834095e+10   7.25369222e+09\n",
      "   1.37134330e+10   3.04793958e+10  -3.52564911e+10  -9.37618073e+10\n",
      "  -8.66461067e+10  -3.16663353e+10   3.67095474e+08   2.72704950e+08\n",
      "   3.74666528e+08   5.22381781e+08   6.96299803e+08   9.21601584e+08\n",
      "   1.26929953e+09   1.60442442e+09   1.95423050e+09   2.33251276e+09\n",
      "   2.75688505e+09   3.16451224e+09   3.26546426e+09   2.89967384e+09\n",
      "   2.45454262e+09   1.77944208e+09   1.28156534e+09   5.44689999e+08\n",
      "  -8.89488354e+10  -1.02911927e+10  -7.28212108e+09  -2.23990361e+10\n",
      "  -3.02775923e+10  -2.79046734e+10  -2.04451127e+10  -1.53719064e+10\n",
      "  -6.57951634e+09   1.33679495e+11  -4.80078161e+10  -3.81734109e+10\n",
      "  -6.55872869e+10  -7.03980821e+10  -6.50815843e+10  -6.75315337e+10\n",
      "  -7.31120858e+10  -6.10167895e+10  -3.89705211e+10  -1.79334253e+10\n",
      "  -3.69558975e+09]\n",
      "0.0193339391093\n"
     ]
    }
   ],
   "source": [
    "print (LR_model.coef_)\n",
    "print (LR_model.intercept_)"
   ]
  },
  {
   "cell_type": "code",
   "execution_count": 14,
   "metadata": {
    "collapsed": true
   },
   "outputs": [],
   "source": [
    "test_df_preLabel = LR_model.predict(test_df)"
   ]
  },
  {
   "cell_type": "code",
   "execution_count": 15,
   "metadata": {
    "scrolled": true
   },
   "outputs": [
    {
     "name": "stdout",
     "output_type": "stream",
     "text": [
      "0.0868520141726\n"
     ]
    }
   ],
   "source": [
    "logLoss = log_loss(test_df_label, test_df_preLabel)\n",
    "print (logLoss)"
   ]
  },
  {
   "cell_type": "code",
   "execution_count": 16,
   "metadata": {
    "collapsed": true
   },
   "outputs": [],
   "source": [
    "test_prelabel = LR_model.predict(test_data)"
   ]
  },
  {
   "cell_type": "code",
   "execution_count": 17,
   "metadata": {
    "collapsed": true
   },
   "outputs": [],
   "source": [
    "result = pd.DataFrame({'instance_id':instance_df})\n",
    "result['predicted_score'] = test_prelabel"
   ]
  },
  {
   "cell_type": "code",
   "execution_count": 18,
   "metadata": {
    "collapsed": true
   },
   "outputs": [],
   "source": [
    "result.to_csv('../Output/predict_result_0321.txt', index=False, sep=' ', line_terminator='\\r')"
   ]
  },
  {
   "cell_type": "code",
   "execution_count": null,
   "metadata": {
    "collapsed": true
   },
   "outputs": [],
   "source": []
  }
 ],
 "metadata": {
  "kernelspec": {
   "display_name": "Python 3",
   "language": "python",
   "name": "python3"
  },
  "language_info": {
   "codemirror_mode": {
    "name": "ipython",
    "version": 3
   },
   "file_extension": ".py",
   "mimetype": "text/x-python",
   "name": "python",
   "nbconvert_exporter": "python",
   "pygments_lexer": "ipython3",
   "version": "3.6.3"
  }
 },
 "nbformat": 4,
 "nbformat_minor": 2
}
